{
 "cells": [
  {
   "cell_type": "code",
   "execution_count": 8,
   "metadata": {
    "collapsed": true
   },
   "outputs": [],
   "source": [
    "from pathlib import Path\n",
    "\n",
    "import pandas as pd\n",
    "from helpers.LinkedList import LinkedList"
   ]
  },
  {
   "cell_type": "code",
   "execution_count": 9,
   "outputs": [],
   "source": [
    "df = pd.DataFrame(columns=[\"Frame\", \"Object\", \"ID\", \"Timestamp_In\", \"Timestamp_Out\"], index=None)"
   ],
   "metadata": {
    "collapsed": false,
    "pycharm": {
     "name": "#%%\n"
    }
   }
  },
  {
   "cell_type": "code",
   "execution_count": 10,
   "outputs": [],
   "source": [
    "ll = LinkedList()\n",
    "ll.insert(frame=1, obj=\"Person\", id=1, timestamp=\"00:00:00.083333\")\n",
    "ll.append(frame=2, obj=\"Chair\", id=1, timestamp=\"00:00:00.250000\")\n",
    "ll.append(frame=2, obj=\"Person\", id=1, timestamp=\"0:01\")\n",
    "ll.append(frame=3, obj=\"Person\", id=1, timestamp=\"0:02\")\n",
    "ll.append(frame=4, obj=\"Person\", id=1, timestamp=\"0:03\")\n",
    "ll.append(frame=5, obj=\"Person\", id=1, timestamp=\"0:04\")\n",
    "ll.append(frame=6, obj=\"Person\", id=1, timestamp=\"0:05\")\n",
    "ll.append(frame=6, obj=\"Orange\", id=1, timestamp=\"0:05\")\n",
    "ll.append(frame=7, obj=\"Orange\", id=1, timestamp=\"0:06\")\n",
    "ll.append(frame=8, obj=\"Person\", id=1, timestamp=\"0:07\")\n",
    "ll.append(frame=9, obj=\"Person\",  id=1, timestamp=\"0:08\")\n",
    "ll.append(frame=9, obj=\"Bowling Bowl\", id=1, timestamp=\"0:09\")\n",
    "ll.append(frame=10, obj=\"Bowling Bowl\", id=1, timestamp=\"0:10\")\n",
    "ll.append(frame=11, obj=\"Bowling Bowl\", id=1, timestamp=\"0:11\")\n",
    "ll.append(frame=12, obj=\"Bowling Bowl\", id=1, timestamp=\"0:12\")\n",
    "ll.append(frame=50, obj=\"Bowling Bowl\", id=1, timestamp=\"0:50\")\n",
    "ll.append(frame=51, obj=\"Bowling Bowl\", id=1, timestamp=\"0:51\")\n",
    "ll.append(frame=52, obj=\"Bowling Bowl\", id=1, timestamp=\"0:52\")"
   ],
   "metadata": {
    "collapsed": false,
    "pycharm": {
     "name": "#%%\n"
    }
   }
  },
  {
   "cell_type": "code",
   "execution_count": 11,
   "outputs": [
    {
     "name": "stdout",
     "output_type": "stream",
     "text": [
      "{'next': <helpers.Frame.Frame object at 0x0000025353637708>, 'frame': 1, 'obj': 'Person', 'id': 1, 'timestamp': '00:00:00.083333'}\n",
      "{'next': <helpers.Frame.Frame object at 0x0000025353637588>, 'frame': 2, 'obj': 'Chair', 'id': 1, 'timestamp': '00:00:00.250000'}\n",
      "{'next': <helpers.Frame.Frame object at 0x00000253432F2788>, 'frame': 2, 'obj': 'Person', 'id': 1, 'timestamp': '0:01'}\n",
      "{'next': <helpers.Frame.Frame object at 0x00000253536377C8>, 'frame': 3, 'obj': 'Person', 'id': 1, 'timestamp': '0:02'}\n",
      "{'next': <helpers.Frame.Frame object at 0x0000025353637FC8>, 'frame': 4, 'obj': 'Person', 'id': 1, 'timestamp': '0:03'}\n",
      "{'next': <helpers.Frame.Frame object at 0x0000025353637E88>, 'frame': 5, 'obj': 'Person', 'id': 1, 'timestamp': '0:04'}\n",
      "{'next': <helpers.Frame.Frame object at 0x0000025353668988>, 'frame': 6, 'obj': 'Person', 'id': 1, 'timestamp': '0:05'}\n",
      "{'next': <helpers.Frame.Frame object at 0x0000025353668608>, 'frame': 6, 'obj': 'Orange', 'id': 1, 'timestamp': '0:05'}\n",
      "{'next': <helpers.Frame.Frame object at 0x0000025353668B48>, 'frame': 7, 'obj': 'Orange', 'id': 1, 'timestamp': '0:06'}\n",
      "{'next': <helpers.Frame.Frame object at 0x0000025353668848>, 'frame': 8, 'obj': 'Person', 'id': 1, 'timestamp': '0:07'}\n",
      "{'next': <helpers.Frame.Frame object at 0x00000253536684C8>, 'frame': 9, 'obj': 'Person', 'id': 1, 'timestamp': '0:08'}\n",
      "{'next': <helpers.Frame.Frame object at 0x000002535366A648>, 'frame': 9, 'obj': 'Bowling Bowl', 'id': 1, 'timestamp': '0:09'}\n",
      "{'next': <helpers.Frame.Frame object at 0x000002535366A888>, 'frame': 10, 'obj': 'Bowling Bowl', 'id': 1, 'timestamp': '0:10'}\n",
      "{'next': <helpers.Frame.Frame object at 0x000002535366AE08>, 'frame': 11, 'obj': 'Bowling Bowl', 'id': 1, 'timestamp': '0:11'}\n",
      "{'next': <helpers.Frame.Frame object at 0x000002535366A508>, 'frame': 12, 'obj': 'Bowling Bowl', 'id': 1, 'timestamp': '0:12'}\n",
      "{'next': <helpers.Frame.Frame object at 0x000002535366ACC8>, 'frame': 50, 'obj': 'Bowling Bowl', 'id': 1, 'timestamp': '0:50'}\n",
      "{'next': <helpers.Frame.Frame object at 0x000002535366A048>, 'frame': 51, 'obj': 'Bowling Bowl', 'id': 1, 'timestamp': '0:51'}\n",
      "{'next': None, 'frame': 52, 'obj': 'Bowling Bowl', 'id': 1, 'timestamp': '0:52'}\n"
     ]
    }
   ],
   "source": [
    "for node in ll:\n",
    "    print(node.__dict__)"
   ],
   "metadata": {
    "collapsed": false,
    "pycharm": {
     "name": "#%%\n"
    }
   }
  },
  {
   "cell_type": "code",
   "execution_count": 12,
   "outputs": [],
   "source": [
    "save_dir = Path(\".\").resolve().joinpath(\"linkedtest.csv\")\n",
    "ll.ll2csv(df, save_dir)"
   ],
   "metadata": {
    "collapsed": false,
    "pycharm": {
     "name": "#%%\n"
    }
   }
  },
  {
   "cell_type": "code",
   "execution_count": 13,
   "outputs": [
    {
     "data": {
      "text/plain": "         Object ID     Timestamp_In    Timestamp_Out\n1        Person  1  00:00:00.083333             0:05\n2         Chair  1  00:00:00.250000  00:00:00.250000\n3        Orange  1             0:05             0:06\n4        Person  1             0:07             0:08\n5  Bowling Bowl  1             0:09             0:12\n6  Bowling Bowl  1             0:50             0:52",
      "text/html": "<div>\n<style scoped>\n    .dataframe tbody tr th:only-of-type {\n        vertical-align: middle;\n    }\n\n    .dataframe tbody tr th {\n        vertical-align: top;\n    }\n\n    .dataframe thead th {\n        text-align: right;\n    }\n</style>\n<table border=\"1\" class=\"dataframe\">\n  <thead>\n    <tr style=\"text-align: right;\">\n      <th></th>\n      <th>Object</th>\n      <th>ID</th>\n      <th>Timestamp_In</th>\n      <th>Timestamp_Out</th>\n    </tr>\n  </thead>\n  <tbody>\n    <tr>\n      <th>1</th>\n      <td>Person</td>\n      <td>1</td>\n      <td>00:00:00.083333</td>\n      <td>0:05</td>\n    </tr>\n    <tr>\n      <th>2</th>\n      <td>Chair</td>\n      <td>1</td>\n      <td>00:00:00.250000</td>\n      <td>00:00:00.250000</td>\n    </tr>\n    <tr>\n      <th>3</th>\n      <td>Orange</td>\n      <td>1</td>\n      <td>0:05</td>\n      <td>0:06</td>\n    </tr>\n    <tr>\n      <th>4</th>\n      <td>Person</td>\n      <td>1</td>\n      <td>0:07</td>\n      <td>0:08</td>\n    </tr>\n    <tr>\n      <th>5</th>\n      <td>Bowling Bowl</td>\n      <td>1</td>\n      <td>0:09</td>\n      <td>0:12</td>\n    </tr>\n    <tr>\n      <th>6</th>\n      <td>Bowling Bowl</td>\n      <td>1</td>\n      <td>0:50</td>\n      <td>0:52</td>\n    </tr>\n  </tbody>\n</table>\n</div>"
     },
     "execution_count": 13,
     "metadata": {},
     "output_type": "execute_result"
    }
   ],
   "source": [
    "df"
   ],
   "metadata": {
    "collapsed": false,
    "pycharm": {
     "name": "#%%\n"
    }
   }
  },
  {
   "cell_type": "markdown",
   "source": [
    "## Output of the CSV"
   ],
   "metadata": {
    "collapsed": false
   }
  },
  {
   "cell_type": "code",
   "execution_count": 14,
   "outputs": [],
   "source": [
    "df = pd.read_csv(\"linkedtest.csv\", index_col=\"Object\")"
   ],
   "metadata": {
    "collapsed": false,
    "pycharm": {
     "name": "#%%\n"
    }
   }
  },
  {
   "cell_type": "code",
   "execution_count": 16,
   "outputs": [
    {
     "data": {
      "text/plain": "              ID     Timestamp_In    Timestamp_Out\nObject                                            \nPerson         1  00:00:00.083333             0:05\nChair          1  00:00:00.250000  00:00:00.250000\nOrange         1             0:05             0:06\nPerson         1             0:07             0:08\nBowling Bowl   1             0:09             0:12\nBowling Bowl   1             0:50             0:52",
      "text/html": "<div>\n<style scoped>\n    .dataframe tbody tr th:only-of-type {\n        vertical-align: middle;\n    }\n\n    .dataframe tbody tr th {\n        vertical-align: top;\n    }\n\n    .dataframe thead th {\n        text-align: right;\n    }\n</style>\n<table border=\"1\" class=\"dataframe\">\n  <thead>\n    <tr style=\"text-align: right;\">\n      <th></th>\n      <th>ID</th>\n      <th>Timestamp_In</th>\n      <th>Timestamp_Out</th>\n    </tr>\n    <tr>\n      <th>Object</th>\n      <th></th>\n      <th></th>\n      <th></th>\n    </tr>\n  </thead>\n  <tbody>\n    <tr>\n      <th>Person</th>\n      <td>1</td>\n      <td>00:00:00.083333</td>\n      <td>0:05</td>\n    </tr>\n    <tr>\n      <th>Chair</th>\n      <td>1</td>\n      <td>00:00:00.250000</td>\n      <td>00:00:00.250000</td>\n    </tr>\n    <tr>\n      <th>Orange</th>\n      <td>1</td>\n      <td>0:05</td>\n      <td>0:06</td>\n    </tr>\n    <tr>\n      <th>Person</th>\n      <td>1</td>\n      <td>0:07</td>\n      <td>0:08</td>\n    </tr>\n    <tr>\n      <th>Bowling Bowl</th>\n      <td>1</td>\n      <td>0:09</td>\n      <td>0:12</td>\n    </tr>\n    <tr>\n      <th>Bowling Bowl</th>\n      <td>1</td>\n      <td>0:50</td>\n      <td>0:52</td>\n    </tr>\n  </tbody>\n</table>\n</div>"
     },
     "execution_count": 16,
     "metadata": {},
     "output_type": "execute_result"
    }
   ],
   "source": [
    "df.head(10)"
   ],
   "metadata": {
    "collapsed": false,
    "pycharm": {
     "name": "#%%\n"
    }
   }
  },
  {
   "cell_type": "code",
   "execution_count": null,
   "outputs": [],
   "source": [],
   "metadata": {
    "collapsed": false,
    "pycharm": {
     "name": "#%%\n"
    }
   }
  }
 ],
 "metadata": {
  "kernelspec": {
   "display_name": "Python 3",
   "language": "python",
   "name": "python3"
  },
  "language_info": {
   "codemirror_mode": {
    "name": "ipython",
    "version": 2
   },
   "file_extension": ".py",
   "mimetype": "text/x-python",
   "name": "python",
   "nbconvert_exporter": "python",
   "pygments_lexer": "ipython2",
   "version": "2.7.6"
  }
 },
 "nbformat": 4,
 "nbformat_minor": 0
}